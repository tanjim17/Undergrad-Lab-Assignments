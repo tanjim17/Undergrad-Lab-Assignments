{
  "cells": [
    {
      "cell_type": "code",
      "execution_count": 16,
      "id": "9ac893b5",
      "metadata": {
        "ExecuteTime": {
          "end_time": "2022-11-20T04:18:55.271560Z",
          "start_time": "2022-11-20T04:18:54.607446Z"
        },
        "id": "9ac893b5"
      },
      "outputs": [],
      "source": [
        "import numpy as np\n",
        "import matplotlib.pyplot as plt"
      ]
    },
    {
      "cell_type": "markdown",
      "id": "53b6859d",
      "metadata": {
        "id": "53b6859d"
      },
      "source": [
        "# Visualizing vectors in 2D\n",
        "\n",
        "The `plot_vectors` function plots a list of vectors in 2D space."
      ]
    },
    {
      "cell_type": "code",
      "execution_count": 17,
      "id": "cc7e895c",
      "metadata": {
        "ExecuteTime": {
          "end_time": "2022-11-20T04:18:55.302811Z",
          "start_time": "2022-11-20T04:18:55.272228Z"
        },
        "id": "cc7e895c"
      },
      "outputs": [],
      "source": [
        "def plot_vectors(vectors, colors, scale=60):\n",
        "    V = np.array([[0, 1], [1, 0]])  # ihat and jhat\n",
        "    colors = ['k', 'k'] + colors\n",
        "    V = np.vstack([V, np.hstack(vectors).T])\n",
        "    \n",
        "    plt.figure(figsize=(5, 5))\n",
        "    plt.grid()\n",
        "    \n",
        "    origin = np.zeros(V.T.shape)\n",
        "    plt.quiver(*origin, V[:,0], V[:,1], color=colors, scale=1, units='xy')\n",
        "    \n",
        "    lim = V.max() * 1.5\n",
        "    \n",
        "    plt.xlim(-lim, lim)\n",
        "    plt.ylim(-lim, lim)\n",
        "    \n",
        "    plt.show()"
      ]
    },
    {
      "cell_type": "markdown",
      "id": "abcd5b03",
      "metadata": {
        "id": "abcd5b03"
      },
      "source": [
        "Let's look at some examples - $v_1$ and $v_2$"
      ]
    },
    {
      "cell_type": "code",
      "execution_count": 18,
      "id": "4640cc16",
      "metadata": {
        "ExecuteTime": {
          "end_time": "2022-11-20T04:18:55.318741Z",
          "start_time": "2022-11-20T04:18:55.303812Z"
        },
        "id": "4640cc16"
      },
      "outputs": [],
      "source": [
        "v1 = np.array([[2, 2]]).T\n",
        "v2 = np.array([[2, 1]]).T"
      ]
    },
    {
      "cell_type": "code",
      "execution_count": 19,
      "id": "a42e6e8b",
      "metadata": {
        "ExecuteTime": {
          "end_time": "2022-11-20T04:18:55.413089Z",
          "start_time": "2022-11-20T04:18:55.320752Z"
        },
        "id": "a42e6e8b",
        "colab": {
          "base_uri": "https://localhost:8080/",
          "height": 324
        },
        "outputId": "26a1af4f-14b7-43df-b495-922cf7f78f8f"
      },
      "outputs": [
        {
          "output_type": "display_data",
          "data": {
            "text/plain": [
              "<Figure size 360x360 with 1 Axes>"
            ],
            "image/png": "[encoded data removed]"
          },
          "metadata": {
            "needs_background": "light"
          }
        }
      ],
      "source": [
        "plot_vectors([v1, v2], colors=['r', 'g'])"
      ]
    },
    {
      "cell_type": "markdown",
      "id": "7ddc3e39",
      "metadata": {
        "id": "7ddc3e39"
      },
      "source": [
        "# Matrix Transformation\n",
        "\n",
        "Say, $M$ is a 2D transformation matrix. Let's apply $M$ on some random 2D vectors and see where they land after being transformed."
      ]
    },
    {
      "cell_type": "code",
      "execution_count": 20,
      "id": "45a98098",
      "metadata": {
        "ExecuteTime": {
          "end_time": "2022-11-20T04:18:55.428886Z",
          "start_time": "2022-11-20T04:18:55.414089Z"
        },
        "id": "45a98098"
      },
      "outputs": [],
      "source": [
        "M = np.array([\n",
        "    [2, 1],\n",
        "    [1, 2]\n",
        "])"
      ]
    },
    {
      "cell_type": "markdown",
      "id": "b5bf0330",
      "metadata": {
        "id": "b5bf0330"
      },
      "source": [
        "Say, $v = \\hat{i} + 2\\hat{j}$ and the transformed vector is $v_m = Mv$"
      ]
    },
    {
      "cell_type": "code",
      "execution_count": 21,
      "id": "2394f760",
      "metadata": {
        "ExecuteTime": {
          "end_time": "2022-11-20T04:18:55.508957Z",
          "start_time": "2022-11-20T04:18:55.429912Z"
        },
        "id": "2394f760",
        "colab": {
          "base_uri": "https://localhost:8080/",
          "height": 337
        },
        "outputId": "5682087d-dc5f-4d6c-e387-cb3e06dfb7a4"
      },
      "outputs": [
        {
          "output_type": "stream",
          "name": "stdout",
          "text": [
            "Length scaled = 2.8635642126552705\n"
          ]
        },
        {
          "output_type": "display_data",
          "data": {
            "text/plain": [
              "<Figure size 360x360 with 1 Axes>"
            ],
            "image/png": "[encoded data removed]"
          },
          "metadata": {
            "needs_background": "light"
          }
        }
      ],
      "source": [
        "v = np.array([[1, 2]]).T\n",
        "v_m = M.dot(v)\n",
        "print(f'Length scaled = {np.linalg.norm(v_m) / np.linalg.norm(v)}')\n",
        "plot_vectors([v, v_m], colors=['r', 'g'])"
      ]
    },
    {
      "cell_type": "markdown",
      "id": "24d8ce50",
      "metadata": {
        "id": "24d8ce50"
      },
      "source": [
        "Red arrow shows the original vector and the green arrow shows the transformed vector. \n",
        "\n",
        "After transformation, two things happen to the transformed vector\n",
        "\n",
        "1. It may chage direction\n",
        "2. It may change length"
      ]
    },
    {
      "cell_type": "markdown",
      "id": "e37a4766",
      "metadata": {
        "id": "e37a4766"
      },
      "source": [
        "Let's see how our basis vectors $\\hat{i}$ and $\\hat{j}$ gets transformed."
      ]
    },
    {
      "cell_type": "code",
      "execution_count": 22,
      "id": "e48a1d0d",
      "metadata": {
        "ExecuteTime": {
          "end_time": "2022-11-20T04:18:55.603140Z",
          "start_time": "2022-11-20T04:18:55.509925Z"
        },
        "id": "e48a1d0d",
        "colab": {
          "base_uri": "https://localhost:8080/",
          "height": 359
        },
        "outputId": "1ec07643-422b-49df-baf7-afae778887d1"
      },
      "outputs": [
        {
          "output_type": "stream",
          "name": "stdout",
          "text": [
            "Transformed vector: [[2 1]]\n",
            "1st column of M: [2 1]\n"
          ]
        },
        {
          "output_type": "display_data",
          "data": {
            "text/plain": [
              "<Figure size 360x360 with 1 Axes>"
            ],
            "image/png": "[encoded data removed]"
          },
          "metadata": {
            "needs_background": "light"
          }
        }
      ],
      "source": [
        "v = np.array([[1, 0]]).T # i_hat\n",
        "v_m = M.dot(v)\n",
        "print(f'Transformed vector: {v_m.T}')\n",
        "print(f'1st column of M: {M[:, 0]}')\n",
        "plot_vectors([v, v_m], colors=['r', 'g'])"
      ]
    },
    {
      "cell_type": "code",
      "execution_count": 23,
      "id": "de7a819a",
      "metadata": {
        "ExecuteTime": {
          "end_time": "2022-11-20T04:18:55.682352Z",
          "start_time": "2022-11-20T04:18:55.604151Z"
        },
        "id": "de7a819a",
        "colab": {
          "base_uri": "https://localhost:8080/",
          "height": 359
        },
        "outputId": "24768e21-c2ac-45a4-86ae-16d84bcd6f0b"
      },
      "outputs": [
        {
          "output_type": "stream",
          "name": "stdout",
          "text": [
            "Transformed vector: [[1 2]]\n",
            "2nd column of M: [1 2]\n"
          ]
        },
        {
          "output_type": "display_data",
          "data": {
            "text/plain": [
              "<Figure size 360x360 with 1 Axes>"
            ],
            "image/png": "[encoded data removed]"
          },
          "metadata": {
            "needs_background": "light"
          }
        }
      ],
      "source": [
        "v = np.array([[0, 1]]).T  # j_hat\n",
        "v_m = M.dot(v)\n",
        "print(f'Transformed vector: {v_m.T}')\n",
        "print(f'2nd column of M: {M[:, 1]}')\n",
        "plot_vectors([v, v_m], colors=['r', 'g'])"
      ]
    },
    {
      "cell_type": "markdown",
      "id": "c914445a",
      "metadata": {
        "id": "c914445a"
      },
      "source": [
        "Can you notice the similarities between transformed vectors and colums of $M$? [Hint](https://i.imgur.com/mWQjR2C.png)\n",
        "\n",
        "Please watch [the amazing explanation](https://youtu.be/kYB8IZa5AuE) from [3Blue1Brown](https://www.youtube.com/@3blue1brown)."
      ]
    },
    {
      "cell_type": "markdown",
      "id": "7eee262a",
      "metadata": {
        "id": "7eee262a"
      },
      "source": [
        "# Eigen Decomposition"
      ]
    },
    {
      "cell_type": "markdown",
      "id": "5b0b11ee",
      "metadata": {
        "id": "5b0b11ee"
      },
      "source": [
        "Let's look at a special vector, $v_e = \\hat{i}$"
      ]
    },
    {
      "cell_type": "code",
      "execution_count": 24,
      "id": "263736bf",
      "metadata": {
        "ExecuteTime": {
          "end_time": "2022-11-20T04:18:55.778003Z",
          "start_time": "2022-11-20T04:18:55.683322Z"
        },
        "id": "263736bf",
        "colab": {
          "base_uri": "https://localhost:8080/",
          "height": 341
        },
        "outputId": "e5ebd898-7fed-4de8-d1ab-4fab0d07443a"
      },
      "outputs": [
        {
          "output_type": "stream",
          "name": "stdout",
          "text": [
            "Length scaled 2.23606797749979\n"
          ]
        },
        {
          "output_type": "display_data",
          "data": {
            "text/plain": [
              "<Figure size 360x360 with 1 Axes>"
            ],
            "image/png": "[encoded data removed]"
          },
          "metadata": {
            "needs_background": "light"
          }
        }
      ],
      "source": [
        "v_e = np.array([[1, 0]]).T\n",
        "v_em = M.dot(v_e)\n",
        "print(f'Length scaled {np.linalg.norm(v_em) / np.linalg.norm(v_e)}')\n",
        "plot_vectors([v_e, v_em], colors=['r', 'g'])"
      ]
    },
    {
      "cell_type": "markdown",
      "id": "b57bf2a6",
      "metadata": {
        "id": "b57bf2a6"
      },
      "source": [
        "As you can see the transformed vector stayed on the same line as $v_e$.\n",
        "\n",
        "These kinds of vectors are called eigenvectors of $M$.\n",
        "\n",
        "You can find there by applying eigenvalue decomposition."
      ]
    },
    {
      "cell_type": "code",
      "execution_count": 25,
      "id": "507f4e38",
      "metadata": {
        "ExecuteTime": {
          "end_time": "2022-11-20T04:18:55.794110Z",
          "start_time": "2022-11-20T04:18:55.779995Z"
        },
        "id": "507f4e38"
      },
      "outputs": [],
      "source": [
        "eigen_values, eigen_vectors = np.linalg.eig(M)"
      ]
    },
    {
      "cell_type": "code",
      "execution_count": 26,
      "id": "6a116ede",
      "metadata": {
        "ExecuteTime": {
          "end_time": "2022-11-20T04:18:55.810174Z",
          "start_time": "2022-11-20T04:18:55.795110Z"
        },
        "id": "6a116ede",
        "colab": {
          "base_uri": "https://localhost:8080/"
        },
        "outputId": "c458e4db-7c59-419c-a712-594b3fe95cf6"
      },
      "outputs": [
        {
          "output_type": "execute_result",
          "data": {
            "text/plain": [
              "array([3., 1.])"
            ]
          },
          "metadata": {},
          "execution_count": 26
        }
      ],
      "source": [
        "eigen_values"
      ]
    },
    {
      "cell_type": "code",
      "execution_count": 27,
      "id": "1942351b",
      "metadata": {
        "ExecuteTime": {
          "end_time": "2022-11-20T04:18:55.825477Z",
          "start_time": "2022-11-20T04:18:55.811148Z"
        },
        "id": "1942351b",
        "colab": {
          "base_uri": "https://localhost:8080/"
        },
        "outputId": "a2237b32-aaa1-4c22-fae5-9dd596aa89c7"
      },
      "outputs": [
        {
          "output_type": "execute_result",
          "data": {
            "text/plain": [
              "array([[ 0.70710678, -0.70710678],\n",
              "       [ 0.70710678,  0.70710678]])"
            ]
          },
          "metadata": {},
          "execution_count": 27
        }
      ],
      "source": [
        "eigen_vectors"
      ]
    },
    {
      "cell_type": "markdown",
      "id": "cd862bf3",
      "metadata": {
        "id": "cd862bf3"
      },
      "source": [
        "Let's plot these before and after transformation"
      ]
    },
    {
      "cell_type": "code",
      "execution_count": 28,
      "id": "32bd2c38",
      "metadata": {
        "ExecuteTime": {
          "end_time": "2022-11-20T04:18:55.999437Z",
          "start_time": "2022-11-20T04:18:55.826476Z"
        },
        "id": "32bd2c38",
        "colab": {
          "base_uri": "https://localhost:8080/",
          "height": 731
        },
        "outputId": "b0b9d908-efa1-4f0a-f482-6456480ddfc5"
      },
      "outputs": [
        {
          "output_type": "stream",
          "name": "stdout",
          "text": [
            "Eigenvector [[0.70710678 0.70710678]]\n",
            "Eigenvalue 3.0\n",
            "Length scaled 3.0\n"
          ]
        },
        {
          "output_type": "display_data",
          "data": {
            "text/plain": [
              "<Figure size 360x360 with 1 Axes>"
            ],
            "image/png": "[encoded data removed]"
          },
          "metadata": {
            "needs_background": "light"
          }
        },
        {
          "output_type": "stream",
          "name": "stdout",
          "text": [
            "Eigenvector [[-0.70710678  0.70710678]]\n",
            "Eigenvalue 1.0\n",
            "Length scaled 1.0\n"
          ]
        },
        {
          "output_type": "display_data",
          "data": {
            "text/plain": [
              "<Figure size 360x360 with 1 Axes>"
            ],
            "image/png": "[encoded data removed]"
          },
          "metadata": {
            "needs_background": "light"
          }
        }
      ],
      "source": [
        "for i in range(eigen_vectors.shape[0]):\n",
        "    v = eigen_vectors[:, i].reshape(2, 1)\n",
        "    v_m = M.dot(v)\n",
        "    print(f'Eigenvector {v.T}')\n",
        "    print(f'Eigenvalue {eigen_values[i]}')\n",
        "    print(f'Length scaled {np.linalg.norm(v_m) / np.linalg.norm(v)}')\n",
        "    plot_vectors([v, v_m], colors=['r', 'g'])"
      ]
    },
    {
      "cell_type": "markdown",
      "id": "80de7157",
      "metadata": {
        "id": "80de7157"
      },
      "source": [
        "As you have probably noticed, eigenvalue denotes the amount of scaling after transformation. \n",
        "\n",
        "Let's denote this as $\\lambda$. Then we get a concise equation\n",
        "\n",
        "$$ Mv = \\lambda v $$"
      ]
    }
  ],
  "metadata": {
    "kernelspec": {
      "display_name": "Python 3 (ipykernel)",
      "language": "python",
      "name": "python3"
    },
    "language_info": {
      "codemirror_mode": {
        "name": "ipython",
        "version": 3
      },
      "file_extension": ".py",
      "mimetype": "text/x-python",
      "name": "python",
      "nbconvert_exporter": "python",
      "pygments_lexer": "ipython3",
      "version": "3.9.12"
    },
    "colab": {
      "provenance": []
    }
  },
  "nbformat": 4,
  "nbformat_minor": 5
}